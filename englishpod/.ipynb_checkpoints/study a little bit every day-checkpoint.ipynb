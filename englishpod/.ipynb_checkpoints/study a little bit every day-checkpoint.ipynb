{
 "cells": [
  {
   "cell_type": "code",
   "execution_count": 80,
   "id": "fde0712f",
   "metadata": {},
   "outputs": [],
   "source": [
    "import os\n",
    "import pandas as pd\n",
    "from dateutil.parser import parse\n",
    "import json"
   ]
  },
  {
   "cell_type": "code",
   "execution_count": 88,
   "id": "bf1b2f95",
   "metadata": {},
   "outputs": [
    {
     "name": "stdout",
     "output_type": "stream",
     "text": [
      "{\"2022/4/5\": [\"pratical\", \"legend\", \"congnitive\", \"biological\", \"individual\", \"alliance\", \"affinity with nature\", \"dimension\", \"focal\", \"invasion of privacy\", \"ponder\", \"disaster\", \"passage\", \"realize\", \"several\", \"purpose\", \"energy\", \"scientist\", \"produce\", \"plant\", \"volunteer\"], \"2022/4/6\": [\"resilient\", \"ethic\", \"synonym\", \"swallow\", \"literally\", \"secretary\", \"reservation\", \"appreciate\", \"suggestion\", \"studious\", \"sanitize\", \"elaborate\", \"physical location\", \"adult\", \"present\", \"waste\", \"population\", \"quality\", \"attract\", \"perform\"], \"2022/4/7\": [\"philosophy\", \"incredible\", \"exaggeration\", \"envision\", \"prove\", \"probability\", \"probably\"], \"2022/4/8\": [\"throw\", \"society\", \"experiment\", \"farm\", \"shape\", \"fear\", \"reward\", \"wolf\", \"supply and demand\"], \"2022/4/9\": [\"industry\"]}\n",
      "-----write words file successfully------\n",
      "['The hospital has a commitment to provide the best possible medical care.', 'The hospital has a commitment to provide the best possible medical care.']\n",
      "-----write sentences file successfully------\n"
     ]
    }
   ],
   "source": [
    "txt = pd.read_table('./origin/words_origin.txt', header=None)\n",
    "ses = pd.read_table('./origin/sentences_origin.txt', header=None)\n",
    "\n",
    "list_keys = []\n",
    "list_words = []\n",
    "for _, row in txt.iterrows():\n",
    "    key = row[0].strip()\n",
    "    if '20' in row[0]:\n",
    "        list_keys.append(key)\n",
    "        list_words.append([])\n",
    "    else:\n",
    "        list_words[len(list_words) - 1].append(key)\n",
    "\n",
    "        \n",
    "words = {}\n",
    "for i in range(len(list_keys)):\n",
    "    words[list_keys[i]] = list_words[i]\n",
    "\n",
    "print(json.dumps(words))\n",
    "with open('./data/every_day_words.json', 'w') as f:\n",
    "        json.dump(words, f)\n",
    "\n",
    "print('-----write words file successfully------')\n",
    "\n",
    "\n",
    "ses_list = []\n",
    "for _, row in ses.iterrows():\n",
    "    ses_list.append(row[0])\n",
    "print(ses_list)\n",
    "\n",
    "with open('./data/every_day_ses.json', 'w') as f:\n",
    "        json.dump(ses_list, f)\n",
    "print('-----write sentences file successfully------')"
   ]
  },
  {
   "cell_type": "code",
   "execution_count": null,
   "id": "9addd87d",
   "metadata": {},
   "outputs": [],
   "source": []
  },
  {
   "cell_type": "code",
   "execution_count": null,
   "id": "5c54d671",
   "metadata": {},
   "outputs": [],
   "source": []
  }
 ],
 "metadata": {
  "kernelspec": {
   "display_name": "Python 3",
   "language": "python",
   "name": "python3"
  },
  "language_info": {
   "codemirror_mode": {
    "name": "ipython",
    "version": 3
   },
   "file_extension": ".py",
   "mimetype": "text/x-python",
   "name": "python",
   "nbconvert_exporter": "python",
   "pygments_lexer": "ipython3",
   "version": "3.8.8"
  }
 },
 "nbformat": 4,
 "nbformat_minor": 5
}
